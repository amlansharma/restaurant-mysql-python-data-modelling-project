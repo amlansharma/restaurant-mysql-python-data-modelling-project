{
 "cells": [
  {
   "cell_type": "code",
   "execution_count": null,
   "id": "e30fbe67",
   "metadata": {},
   "outputs": [],
   "source": [
    "import mysql.connector as c\n",
    "import pandas as pd"
   ]
  },
  {
   "cell_type": "code",
   "execution_count": null,
   "id": "2489045d",
   "metadata": {},
   "outputs": [],
   "source": [
    "def create_db():\n",
    "    #Connecting to mysql to start creating a database\n",
    "    con = c.connect(host=\"localhost\", user=\"root\",passwd = \"amlan\")\n",
    "    con.autocommit = True       #To avoid using con.commit() everytime\n",
    "    \n",
    "    #cursor, for executing the queries\n",
    "    cursor = con.cursor()\n",
    "    \n",
    "    #creating database\n",
    "    create_database_query = \"CREATE DATABASE IF NOT EXISTS RestaurantDb\"\n",
    "    cursor.execute(create_database_query)\n",
    "    con.close()\n",
    "    \n",
    "    #connecting to our created database\n",
    "    con = c.connect(host='localhost',user='root', passwd = '*****',database = 'RestaurantDb')\n",
    "    cursor = con.cursor()\n",
    "    \n",
    "    return cursor, con"
   ]
  },
  {
   "cell_type": "code",
   "execution_count": null,
   "id": "5cae8735",
   "metadata": {},
   "outputs": [],
   "source": [
    "#Reading our first csv file\n",
    "geo_places = pd.read_csv(\"geoplaces2.csv\")"
   ]
  },
  {
   "cell_type": "code",
   "execution_count": null,
   "id": "1ab9f4a6",
   "metadata": {},
   "outputs": [],
   "source": [
    "#Filtering out the required columns\n",
    "geo_places_clean = geo_places[['placeID','name','address','city','state','country']]"
   ]
  },
  {
   "cell_type": "code",
   "execution_count": null,
   "id": "2f1973af",
   "metadata": {},
   "outputs": [],
   "source": [
    "geo_places_clean.head()"
   ]
  },
  {
   "cell_type": "code",
   "execution_count": null,
   "id": "187c7212",
   "metadata": {},
   "outputs": [],
   "source": [
    "#Removing all the '?' present in the columns\n",
    "geo_places_clean['name','address','city','state','country'].replace({'?': 'NA'}, inplace = True)"
   ]
  },
  {
   "cell_type": "code",
   "execution_count": null,
   "id": "391e7c9b",
   "metadata": {},
   "outputs": [],
   "source": [
    "#Reading the second csv file\n",
    "rating = pd.read_csv(\"Store_Data_Users/rating_final.csv\")"
   ]
  },
  {
   "cell_type": "code",
   "execution_count": null,
   "id": "5ac55480",
   "metadata": {},
   "outputs": [],
   "source": [
    "#Reading the third csv file\n",
    "user_profile = pd.read_csv(\"Store_Data_Users/userprofile.csv\")"
   ]
  },
  {
   "cell_type": "code",
   "execution_count": null,
   "id": "bed799c3",
   "metadata": {},
   "outputs": [],
   "source": [
    "#Dropping unwanted columns\n",
    "user_profile = user_profile.drop(labels = ['drink_level','marital_status','interest','color','weight','budget','height'],axis=1)"
   ]
  },
  {
   "cell_type": "code",
   "execution_count": null,
   "id": "87b0447d",
   "metadata": {},
   "outputs": [],
   "source": [
    "user_profile.head()"
   ]
  },
  {
   "cell_type": "code",
   "execution_count": null,
   "id": "9a67f45d",
   "metadata": {},
   "outputs": [],
   "source": [
    "#Renaming a column as per our need\n",
    "user_profile.rename(columns = {'activity':'profile'}, inplace=True)"
   ]
  },
  {
   "cell_type": "code",
   "execution_count": null,
   "id": "f02924f4",
   "metadata": {},
   "outputs": [],
   "source": [
    "cursor, con = create_db()"
   ]
  },
  {
   "cell_type": "code",
   "execution_count": null,
   "id": "83a7a150",
   "metadata": {},
   "outputs": [],
   "source": [
    "#Creating the first table restaurantlocations\n",
    "restaurantLocations_table_create = '''CREATE TABLE IF NOT EXISTS RestaurantLocations (\n",
    "                                    placeID int PRIMARY KEY,\n",
    "                                    name varchar(150),\n",
    "                                    address varchar(50),\n",
    "                                    city varchar(50),\n",
    "                                    state varchar(50),\n",
    "                                    country varchar(50)\n",
    "                                    )'''\n",
    "cursor.execute(restaurantLocations_table_create)\n",
    "con.commit()"
   ]
  },
  {
   "cell_type": "code",
   "execution_count": null,
   "id": "01e4637e",
   "metadata": {},
   "outputs": [],
   "source": [
    "#Creating the second table userratings\n",
    "userRatings_table_create = '''CREATE TABLE IF NOT EXISTS UserRatings (\n",
    "                                    userID varchar(50) PRIMARY KEY,\n",
    "                                    placeID int,\n",
    "                                    rating int,\n",
    "                                    food_rating int,\n",
    "                                    service_rating int\n",
    "                                    )'''\n",
    "cursor.execute(userRatings_table_create)\n",
    "con.commit()"
   ]
  },
  {
   "cell_type": "code",
   "execution_count": null,
   "id": "c4aa353a",
   "metadata": {},
   "outputs": [],
   "source": [
    "#Creating the third table userprofile\n",
    "userProfile_table_create = '''CREATE TABLE IF NOT EXISTS UserProfile (\n",
    "                                    userID varchar(50),\n",
    "                                    birth_year int,\n",
    "                                    personality varchar(50),\n",
    "                                    religion varchar(50),\n",
    "                                    profile varchar(50),\n",
    "                                    PRIMARY KEY(userID)\n",
    "                                    )'''\n",
    "cursor.execute(userProfile_table_create)\n",
    "con.commit()"
   ]
  },
  {
   "cell_type": "code",
   "execution_count": null,
   "id": "2c79b60e",
   "metadata": {},
   "outputs": [],
   "source": [
    "#Inserting data into restaurantlocatons table\n",
    "restaurantlocations_insert_query = '''INSERT INTO restaurantlocations(placeID, name, address, city, state, country)\n",
    "                                    values(%s,%s,%s,%s,%s,%s)'''\n",
    "for i, row in geo_places_clean.iterrows():\n",
    "    cursor.execute(restaurantlocations_insert_query, list(row))\n",
    "con.commit()"
   ]
  },
  {
   "cell_type": "code",
   "execution_count": null,
   "id": "3b65c04e",
   "metadata": {},
   "outputs": [],
   "source": [
    "#Inserting data into userratings table\n",
    "rating_insert_query = '''INSERT INTO userratings(userID, placeID, rating, food_rating, service_rating)\n",
    "                                    values(%s,%s,%s,%s,%s)'''\n",
    "for i, row in rating.iterrows():\n",
    "    cursor.execute(rating_insert_query, list(row))\n",
    "con.commit()"
   ]
  },
  {
   "cell_type": "code",
   "execution_count": null,
   "id": "a0c7685c",
   "metadata": {},
   "outputs": [],
   "source": [
    "#Inserting data into userprofile table\n",
    "userprofile_insert_query = '''INSERT INTO userprofile(userID, birth_year, personaltiy, religion)\n",
    "                                    values(%s,%s,%s,%s)'''\n",
    "for i, row in user_profile.iterrows():\n",
    "    cursor.execute(rating_insert_query, list(row))\n",
    "con.commit()"
   ]
  }
 ],
 "metadata": {
  "kernelspec": {
   "display_name": "Python 3 (ipykernel)",
   "language": "python",
   "name": "python3"
  },
  "language_info": {
   "codemirror_mode": {
    "name": "ipython",
    "version": 3
   },
   "file_extension": ".py",
   "mimetype": "text/x-python",
   "name": "python",
   "nbconvert_exporter": "python",
   "pygments_lexer": "ipython3",
   "version": "3.11.1"
  }
 },
 "nbformat": 4,
 "nbformat_minor": 5
}
